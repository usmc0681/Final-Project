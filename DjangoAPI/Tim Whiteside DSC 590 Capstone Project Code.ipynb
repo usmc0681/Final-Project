{
 "cells": [
  {
   "cell_type": "code",
   "execution_count": 1,
   "id": "0a0f714d",
   "metadata": {},
   "outputs": [],
   "source": [
    "import pandas as pd\n",
    "import numpy as np\n",
    "from sklearn.model_selection import train_test_split\n",
    "from sklearn.metrics import accuracy_score, confusion_matrix\n",
    "from imblearn.over_sampling import SMOTE\n",
    "from sklearn.preprocessing import MinMaxScaler\n",
    "import warnings\n",
    "from sklearn.preprocessing import LabelEncoder\n",
    "from collections import Counter\n",
    "warnings.filterwarnings('ignore')\n",
    "import seaborn as sns\n",
    "import matplotlib.pyplot as plt\n",
    "from keras import Sequential\n",
    "from keras.layers import Dense\n",
    "import requests\n",
    "import io"
   ]
  },
  {
   "cell_type": "code",
   "execution_count": 2,
   "id": "b64e2228",
   "metadata": {},
   "outputs": [],
   "source": [
    "df = pd.read_csv(\"C:\\\\Sample Data\\Recidivism_Challenge_django1.csv\")"
   ]
  },
  {
   "cell_type": "code",
   "execution_count": 3,
   "id": "96a5da76",
   "metadata": {},
   "outputs": [
    {
     "data": {
      "text/plain": [
       "ID                                          False\n",
       "Gender                                      False\n",
       "Race                                        False\n",
       "Age_at_Release                              False\n",
       "Gang_Affiliated                             False\n",
       "Supervision_Risk_Score_First                False\n",
       "Supervision_Level_First                     False\n",
       "Education_Level                             False\n",
       "Dependents                                  False\n",
       "Prison_Offense                              False\n",
       "Prison_Years                                False\n",
       "Prior_Arrest_Episodes_Felony                False\n",
       "Prior_Arrest_Episodes_Misd                  False\n",
       "Prior_Arrest_Episodes_Violent               False\n",
       "Prior_Arrest_Episodes_Property              False\n",
       "Prior_Arrest_Episodes_Drug                  False\n",
       "Prior_Arrest_Episodes_PPViolationCharges    False\n",
       "Prior_Conviction_Episodes_Prop              False\n",
       "Prior_Conviction_Episodes_Drug              False\n",
       "Delinquency_Reports                         False\n",
       "Program_Attendances                         False\n",
       "Program_UnexcusedAbsences                   False\n",
       "Residence_Changes                           False\n",
       "Avg_Days_per_DrugTest                       False\n",
       "DrugTests_THC_Positive                      False\n",
       "DrugTests_Cocaine_Positive                  False\n",
       "DrugTests_Meth_Positive                     False\n",
       "DrugTests_Other_Positive                    False\n",
       "Percent_Days_Employed                       False\n",
       "Jobs_Per_Year                               False\n",
       "Employment_Exempt                           False\n",
       "Recidivism_Within_3years                    False\n",
       "dtype: bool"
      ]
     },
     "execution_count": 3,
     "metadata": {},
     "output_type": "execute_result"
    }
   ],
   "source": [
    "df = df.dropna()\n",
    "df.isna().any()"
   ]
  },
  {
   "cell_type": "code",
   "execution_count": 4,
   "id": "ddcd894b",
   "metadata": {},
   "outputs": [
    {
     "data": {
      "text/html": [
       "<div>\n",
       "<style scoped>\n",
       "    .dataframe tbody tr th:only-of-type {\n",
       "        vertical-align: middle;\n",
       "    }\n",
       "\n",
       "    .dataframe tbody tr th {\n",
       "        vertical-align: top;\n",
       "    }\n",
       "\n",
       "    .dataframe thead th {\n",
       "        text-align: right;\n",
       "    }\n",
       "</style>\n",
       "<table border=\"1\" class=\"dataframe\">\n",
       "  <thead>\n",
       "    <tr style=\"text-align: right;\">\n",
       "      <th></th>\n",
       "      <th>ID</th>\n",
       "      <th>Gender</th>\n",
       "      <th>Race</th>\n",
       "      <th>Age_at_Release</th>\n",
       "      <th>Gang_Affiliated</th>\n",
       "      <th>Supervision_Risk_Score_First</th>\n",
       "      <th>Supervision_Level_First</th>\n",
       "      <th>Education_Level</th>\n",
       "      <th>Dependents</th>\n",
       "      <th>Prison_Offense</th>\n",
       "      <th>...</th>\n",
       "      <th>Residence_Changes</th>\n",
       "      <th>Avg_Days_per_DrugTest</th>\n",
       "      <th>DrugTests_THC_Positive</th>\n",
       "      <th>DrugTests_Cocaine_Positive</th>\n",
       "      <th>DrugTests_Meth_Positive</th>\n",
       "      <th>DrugTests_Other_Positive</th>\n",
       "      <th>Percent_Days_Employed</th>\n",
       "      <th>Jobs_Per_Year</th>\n",
       "      <th>Employment_Exempt</th>\n",
       "      <th>Recidivism_Within_3years</th>\n",
       "    </tr>\n",
       "  </thead>\n",
       "  <tbody>\n",
       "    <tr>\n",
       "      <th>0</th>\n",
       "      <td>9345</td>\n",
       "      <td>M</td>\n",
       "      <td>BLACK</td>\n",
       "      <td>50</td>\n",
       "      <td>False</td>\n",
       "      <td>6</td>\n",
       "      <td>Specialized</td>\n",
       "      <td>At least some college</td>\n",
       "      <td>3</td>\n",
       "      <td>Violent/Non-Sex</td>\n",
       "      <td>...</td>\n",
       "      <td>0</td>\n",
       "      <td>28.333333</td>\n",
       "      <td>0.000000</td>\n",
       "      <td>0.000000</td>\n",
       "      <td>0.000000</td>\n",
       "      <td>0.000000</td>\n",
       "      <td>1.0</td>\n",
       "      <td>2.000000</td>\n",
       "      <td>False</td>\n",
       "      <td>0</td>\n",
       "    </tr>\n",
       "    <tr>\n",
       "      <th>2</th>\n",
       "      <td>25971</td>\n",
       "      <td>M</td>\n",
       "      <td>BLACK</td>\n",
       "      <td>30</td>\n",
       "      <td>False</td>\n",
       "      <td>10</td>\n",
       "      <td>Standard</td>\n",
       "      <td>At least some college</td>\n",
       "      <td>0</td>\n",
       "      <td>Property</td>\n",
       "      <td>...</td>\n",
       "      <td>0</td>\n",
       "      <td>7.880000</td>\n",
       "      <td>0.000000</td>\n",
       "      <td>0.000000</td>\n",
       "      <td>0.000000</td>\n",
       "      <td>0.000000</td>\n",
       "      <td>0.0</td>\n",
       "      <td>0.000000</td>\n",
       "      <td>False</td>\n",
       "      <td>1</td>\n",
       "    </tr>\n",
       "    <tr>\n",
       "      <th>4</th>\n",
       "      <td>17084</td>\n",
       "      <td>M</td>\n",
       "      <td>BLACK</td>\n",
       "      <td>55</td>\n",
       "      <td>False</td>\n",
       "      <td>1</td>\n",
       "      <td>Standard</td>\n",
       "      <td>High School Diploma</td>\n",
       "      <td>2</td>\n",
       "      <td>Violent/Non-Sex</td>\n",
       "      <td>...</td>\n",
       "      <td>1</td>\n",
       "      <td>10.422222</td>\n",
       "      <td>0.066667</td>\n",
       "      <td>0.066667</td>\n",
       "      <td>0.000000</td>\n",
       "      <td>0.000000</td>\n",
       "      <td>1.0</td>\n",
       "      <td>0.778785</td>\n",
       "      <td>False</td>\n",
       "      <td>1</td>\n",
       "    </tr>\n",
       "    <tr>\n",
       "      <th>5</th>\n",
       "      <td>18017</td>\n",
       "      <td>M</td>\n",
       "      <td>BLACK</td>\n",
       "      <td>36</td>\n",
       "      <td>True</td>\n",
       "      <td>10</td>\n",
       "      <td>Specialized</td>\n",
       "      <td>High School Diploma</td>\n",
       "      <td>2</td>\n",
       "      <td>Violent/Non-Sex</td>\n",
       "      <td>...</td>\n",
       "      <td>1</td>\n",
       "      <td>10.071429</td>\n",
       "      <td>0.214286</td>\n",
       "      <td>0.000000</td>\n",
       "      <td>0.000000</td>\n",
       "      <td>0.000000</td>\n",
       "      <td>0.0</td>\n",
       "      <td>0.000000</td>\n",
       "      <td>False</td>\n",
       "      <td>1</td>\n",
       "    </tr>\n",
       "    <tr>\n",
       "      <th>6</th>\n",
       "      <td>19240</td>\n",
       "      <td>M</td>\n",
       "      <td>BLACK</td>\n",
       "      <td>58</td>\n",
       "      <td>False</td>\n",
       "      <td>10</td>\n",
       "      <td>Specialized</td>\n",
       "      <td>High School Diploma</td>\n",
       "      <td>0</td>\n",
       "      <td>Violent/Non-Sex</td>\n",
       "      <td>...</td>\n",
       "      <td>0</td>\n",
       "      <td>82.857143</td>\n",
       "      <td>0.142857</td>\n",
       "      <td>0.000000</td>\n",
       "      <td>0.071429</td>\n",
       "      <td>0.071429</td>\n",
       "      <td>0.0</td>\n",
       "      <td>0.000000</td>\n",
       "      <td>False</td>\n",
       "      <td>1</td>\n",
       "    </tr>\n",
       "  </tbody>\n",
       "</table>\n",
       "<p>5 rows × 32 columns</p>\n",
       "</div>"
      ],
      "text/plain": [
       "      ID Gender   Race  Age_at_Release  Gang_Affiliated  \\\n",
       "0   9345      M  BLACK              50            False   \n",
       "2  25971      M  BLACK              30            False   \n",
       "4  17084      M  BLACK              55            False   \n",
       "5  18017      M  BLACK              36             True   \n",
       "6  19240      M  BLACK              58            False   \n",
       "\n",
       "   Supervision_Risk_Score_First Supervision_Level_First  \\\n",
       "0                             6             Specialized   \n",
       "2                            10                Standard   \n",
       "4                             1                Standard   \n",
       "5                            10             Specialized   \n",
       "6                            10             Specialized   \n",
       "\n",
       "         Education_Level  Dependents   Prison_Offense  ... Residence_Changes  \\\n",
       "0  At least some college           3  Violent/Non-Sex  ...                 0   \n",
       "2  At least some college           0         Property  ...                 0   \n",
       "4    High School Diploma           2  Violent/Non-Sex  ...                 1   \n",
       "5    High School Diploma           2  Violent/Non-Sex  ...                 1   \n",
       "6    High School Diploma           0  Violent/Non-Sex  ...                 0   \n",
       "\n",
       "   Avg_Days_per_DrugTest  DrugTests_THC_Positive  DrugTests_Cocaine_Positive  \\\n",
       "0              28.333333                0.000000                    0.000000   \n",
       "2               7.880000                0.000000                    0.000000   \n",
       "4              10.422222                0.066667                    0.066667   \n",
       "5              10.071429                0.214286                    0.000000   \n",
       "6              82.857143                0.142857                    0.000000   \n",
       "\n",
       "   DrugTests_Meth_Positive  DrugTests_Other_Positive  Percent_Days_Employed  \\\n",
       "0                 0.000000                  0.000000                    1.0   \n",
       "2                 0.000000                  0.000000                    0.0   \n",
       "4                 0.000000                  0.000000                    1.0   \n",
       "5                 0.000000                  0.000000                    0.0   \n",
       "6                 0.071429                  0.071429                    0.0   \n",
       "\n",
       "   Jobs_Per_Year  Employment_Exempt  Recidivism_Within_3years  \n",
       "0       2.000000              False                         0  \n",
       "2       0.000000              False                         1  \n",
       "4       0.778785              False                         1  \n",
       "5       0.000000              False                         1  \n",
       "6       0.000000              False                         1  \n",
       "\n",
       "[5 rows x 32 columns]"
      ]
     },
     "execution_count": 4,
     "metadata": {},
     "output_type": "execute_result"
    }
   ],
   "source": [
    "df.head()"
   ]
  },
  {
   "cell_type": "code",
   "execution_count": 5,
   "id": "96523539",
   "metadata": {},
   "outputs": [
    {
     "name": "stdout",
     "output_type": "stream",
     "text": [
      "<class 'pandas.core.frame.DataFrame'>\n",
      "Int64Index: 11306 entries, 0 to 14689\n",
      "Data columns (total 32 columns):\n",
      " #   Column                                    Non-Null Count  Dtype  \n",
      "---  ------                                    --------------  -----  \n",
      " 0   ID                                        11306 non-null  int64  \n",
      " 1   Gender                                    11306 non-null  object \n",
      " 2   Race                                      11306 non-null  object \n",
      " 3   Age_at_Release                            11306 non-null  int64  \n",
      " 4   Gang_Affiliated                           11306 non-null  bool   \n",
      " 5   Supervision_Risk_Score_First              11306 non-null  int64  \n",
      " 6   Supervision_Level_First                   11306 non-null  object \n",
      " 7   Education_Level                           11306 non-null  object \n",
      " 8   Dependents                                11306 non-null  int64  \n",
      " 9   Prison_Offense                            11306 non-null  object \n",
      " 10  Prison_Years                              11306 non-null  object \n",
      " 11  Prior_Arrest_Episodes_Felony              11306 non-null  int64  \n",
      " 12  Prior_Arrest_Episodes_Misd                11306 non-null  int64  \n",
      " 13  Prior_Arrest_Episodes_Violent             11306 non-null  int64  \n",
      " 14  Prior_Arrest_Episodes_Property            11306 non-null  int64  \n",
      " 15  Prior_Arrest_Episodes_Drug                11306 non-null  int64  \n",
      " 16  Prior_Arrest_Episodes_PPViolationCharges  11306 non-null  int64  \n",
      " 17  Prior_Conviction_Episodes_Prop            11306 non-null  int64  \n",
      " 18  Prior_Conviction_Episodes_Drug            11306 non-null  int64  \n",
      " 19  Delinquency_Reports                       11306 non-null  int64  \n",
      " 20  Program_Attendances                       11306 non-null  int64  \n",
      " 21  Program_UnexcusedAbsences                 11306 non-null  int64  \n",
      " 22  Residence_Changes                         11306 non-null  int64  \n",
      " 23  Avg_Days_per_DrugTest                     11306 non-null  float64\n",
      " 24  DrugTests_THC_Positive                    11306 non-null  float64\n",
      " 25  DrugTests_Cocaine_Positive                11306 non-null  float64\n",
      " 26  DrugTests_Meth_Positive                   11306 non-null  float64\n",
      " 27  DrugTests_Other_Positive                  11306 non-null  float64\n",
      " 28  Percent_Days_Employed                     11306 non-null  float64\n",
      " 29  Jobs_Per_Year                             11306 non-null  float64\n",
      " 30  Employment_Exempt                         11306 non-null  bool   \n",
      " 31  Recidivism_Within_3years                  11306 non-null  int64  \n",
      "dtypes: bool(2), float64(7), int64(17), object(6)\n",
      "memory usage: 2.7+ MB\n"
     ]
    }
   ],
   "source": [
    "df.info()"
   ]
  },
  {
   "cell_type": "code",
   "execution_count": 6,
   "id": "a2cc537c",
   "metadata": {},
   "outputs": [],
   "source": [
    "df = df.drop('ID', axis = 1)"
   ]
  },
  {
   "cell_type": "code",
   "execution_count": 7,
   "id": "4b34d118",
   "metadata": {},
   "outputs": [
    {
     "data": {
      "text/plain": [
       "Counter({0: 4554, 1: 6752})"
      ]
     },
     "execution_count": 7,
     "metadata": {},
     "output_type": "execute_result"
    }
   ],
   "source": [
    "Counter(df['Recidivism_Within_3years'])\n",
    "#Counter(df['Recidivism_Within_3years'])[1]/df['Recidivism_Within_3years'].size"
   ]
  },
  {
   "cell_type": "code",
   "execution_count": 8,
   "id": "fae1606f",
   "metadata": {},
   "outputs": [],
   "source": [
    "pre_y = df['Recidivism_Within_3years']\n",
    "pre_X = df.drop('Recidivism_Within_3years', axis = 1)"
   ]
  },
  {
   "cell_type": "code",
   "execution_count": 9,
   "id": "76d8ace8",
   "metadata": {},
   "outputs": [
    {
     "data": {
      "text/plain": [
       "Counter({0: 4554, 1: 6752})"
      ]
     },
     "execution_count": 9,
     "metadata": {},
     "output_type": "execute_result"
    }
   ],
   "source": [
    "Counter(pre_y)"
   ]
  },
  {
   "cell_type": "code",
   "execution_count": 10,
   "id": "e190db1e",
   "metadata": {},
   "outputs": [],
   "source": [
    "object_cols = [col for col in pre_X.columns if pre_X[col].dtype == 'object' or pre_X[col].dtype == 'bool']\n",
    "\n",
    "for col in object_cols:\n",
    "    le = LabelEncoder()\n",
    "    le.fit(pre_X[col])\n",
    "    pre_X[col] = le.transform(pre_X[col])"
   ]
  },
  {
   "cell_type": "code",
   "execution_count": 11,
   "id": "0aa68fe0",
   "metadata": {},
   "outputs": [],
   "source": [
    "smote = SMOTE(sampling_strategy = 'minority')\n",
    "X1, y = smote.fit_resample(pre_X, pre_y)\n",
    "sc = MinMaxScaler()\n",
    "X = sc.fit_transform(X1)"
   ]
  },
  {
   "cell_type": "code",
   "execution_count": 12,
   "id": "dc589a47",
   "metadata": {},
   "outputs": [
    {
     "data": {
      "text/plain": [
       "Counter({0: 6752, 1: 6752})"
      ]
     },
     "execution_count": 12,
     "metadata": {},
     "output_type": "execute_result"
    }
   ],
   "source": [
    "Counter(y)"
   ]
  },
  {
   "cell_type": "code",
   "execution_count": 13,
   "id": "2a0623c6",
   "metadata": {},
   "outputs": [],
   "source": [
    "X_train, X_test, y_train, y_test = train_test_split(pre_X, pre_y, test_size = 0.2, random_state = 42, shuffle = True)"
   ]
  },
  {
   "cell_type": "code",
   "execution_count": 14,
   "id": "1d187973",
   "metadata": {},
   "outputs": [
    {
     "name": "stdout",
     "output_type": "stream",
     "text": [
      "Epoch 1/50\n",
      "453/453 [==============================] - 2s 4ms/step - loss: 0.6664 - accuracy: 0.5959\n",
      "Epoch 2/50\n",
      "453/453 [==============================] - 2s 4ms/step - loss: 0.6385 - accuracy: 0.6087\n",
      "Epoch 3/50\n",
      "453/453 [==============================] - 2s 3ms/step - loss: 0.6193 - accuracy: 0.6663\n",
      "Epoch 4/50\n",
      "453/453 [==============================] - 2s 3ms/step - loss: 0.6065 - accuracy: 0.6784\n",
      "Epoch 5/50\n",
      "453/453 [==============================] - 2s 3ms/step - loss: 0.6014 - accuracy: 0.6863\n",
      "Epoch 6/50\n",
      "453/453 [==============================] - 2s 3ms/step - loss: 0.5876 - accuracy: 0.6910\n",
      "Epoch 7/50\n",
      "453/453 [==============================] - 2s 4ms/step - loss: 0.5806 - accuracy: 0.6975\n",
      "Epoch 8/50\n",
      "453/453 [==============================] - 2s 4ms/step - loss: 0.5757 - accuracy: 0.6981\n",
      "Epoch 9/50\n",
      "453/453 [==============================] - 2s 4ms/step - loss: 0.5721 - accuracy: 0.7036\n",
      "Epoch 10/50\n",
      "453/453 [==============================] - 2s 4ms/step - loss: 0.5708 - accuracy: 0.6989\n",
      "Epoch 11/50\n",
      "453/453 [==============================] - 2s 4ms/step - loss: 0.5700 - accuracy: 0.7080\n",
      "Epoch 12/50\n",
      "453/453 [==============================] - 2s 3ms/step - loss: 0.5684 - accuracy: 0.7040\n",
      "Epoch 13/50\n",
      "453/453 [==============================] - 2s 3ms/step - loss: 0.5636 - accuracy: 0.7058\n",
      "Epoch 14/50\n",
      "453/453 [==============================] - 2s 3ms/step - loss: 0.5625 - accuracy: 0.7099\n",
      "Epoch 15/50\n",
      "453/453 [==============================] - 2s 4ms/step - loss: 0.5624 - accuracy: 0.7077\n",
      "Epoch 16/50\n",
      "453/453 [==============================] - 2s 3ms/step - loss: 0.5608 - accuracy: 0.7105\n",
      "Epoch 17/50\n",
      "453/453 [==============================] - 2s 4ms/step - loss: 0.5565 - accuracy: 0.7112\n",
      "Epoch 18/50\n",
      "453/453 [==============================] - 2s 4ms/step - loss: 0.5577 - accuracy: 0.7074\n",
      "Epoch 19/50\n",
      "453/453 [==============================] - 2s 4ms/step - loss: 0.5545 - accuracy: 0.7157\n",
      "Epoch 20/50\n",
      "453/453 [==============================] - 2s 3ms/step - loss: 0.5520 - accuracy: 0.7178\n",
      "Epoch 21/50\n",
      "453/453 [==============================] - 2s 3ms/step - loss: 0.5495 - accuracy: 0.7186\n",
      "Epoch 22/50\n",
      "453/453 [==============================] - 2s 3ms/step - loss: 0.5494 - accuracy: 0.7172\n",
      "Epoch 23/50\n",
      "453/453 [==============================] - 2s 3ms/step - loss: 0.5460 - accuracy: 0.7200\n",
      "Epoch 24/50\n",
      "453/453 [==============================] - 2s 3ms/step - loss: 0.5417 - accuracy: 0.7210\n",
      "Epoch 25/50\n",
      "453/453 [==============================] - 2s 3ms/step - loss: 0.5409 - accuracy: 0.7253\n",
      "Epoch 26/50\n",
      "453/453 [==============================] - 2s 3ms/step - loss: 0.5367 - accuracy: 0.7271\n",
      "Epoch 27/50\n",
      "453/453 [==============================] - 2s 3ms/step - loss: 0.5363 - accuracy: 0.7273\n",
      "Epoch 28/50\n",
      "453/453 [==============================] - 2s 4ms/step - loss: 0.5326 - accuracy: 0.7273\n",
      "Epoch 29/50\n",
      "453/453 [==============================] - 2s 4ms/step - loss: 0.5319 - accuracy: 0.7272\n",
      "Epoch 30/50\n",
      "453/453 [==============================] - 2s 3ms/step - loss: 0.5275 - accuracy: 0.7302\n",
      "Epoch 31/50\n",
      "453/453 [==============================] - 2s 4ms/step - loss: 0.5236 - accuracy: 0.7311\n",
      "Epoch 32/50\n",
      "453/453 [==============================] - 2s 3ms/step - loss: 0.5200 - accuracy: 0.7343\n",
      "Epoch 33/50\n",
      "453/453 [==============================] - 2s 3ms/step - loss: 0.5173 - accuracy: 0.7341\n",
      "Epoch 34/50\n",
      "453/453 [==============================] - 2s 3ms/step - loss: 0.5158 - accuracy: 0.7368\n",
      "Epoch 35/50\n",
      "453/453 [==============================] - 2s 3ms/step - loss: 0.5138 - accuracy: 0.7357\n",
      "Epoch 36/50\n",
      "453/453 [==============================] - 2s 3ms/step - loss: 0.5072 - accuracy: 0.7409\n",
      "Epoch 37/50\n",
      "453/453 [==============================] - 2s 3ms/step - loss: 0.5062 - accuracy: 0.7406\n",
      "Epoch 38/50\n",
      "453/453 [==============================] - 2s 4ms/step - loss: 0.4987 - accuracy: 0.7444\n",
      "Epoch 39/50\n",
      "453/453 [==============================] - 2s 4ms/step - loss: 0.4976 - accuracy: 0.7475\n",
      "Epoch 40/50\n",
      "453/453 [==============================] - 2s 3ms/step - loss: 0.4880 - accuracy: 0.7471\n",
      "Epoch 41/50\n",
      "453/453 [==============================] - 2s 4ms/step - loss: 0.4882 - accuracy: 0.7544\n",
      "Epoch 42/50\n",
      "453/453 [==============================] - 2s 3ms/step - loss: 0.4766 - accuracy: 0.7561\n",
      "Epoch 43/50\n",
      "453/453 [==============================] - 2s 3ms/step - loss: 0.4735 - accuracy: 0.7624\n",
      "Epoch 44/50\n",
      "453/453 [==============================] - 2s 3ms/step - loss: 0.4695 - accuracy: 0.7638\n",
      "Epoch 45/50\n",
      "453/453 [==============================] - 2s 3ms/step - loss: 0.4626 - accuracy: 0.7718\n",
      "Epoch 46/50\n",
      "453/453 [==============================] - 2s 3ms/step - loss: 0.4531 - accuracy: 0.7720\n",
      "Epoch 47/50\n",
      "453/453 [==============================] - 2s 3ms/step - loss: 0.4440 - accuracy: 0.7807\n",
      "Epoch 48/50\n",
      "453/453 [==============================] - 2s 4ms/step - loss: 0.4373 - accuracy: 0.7816\n",
      "Epoch 49/50\n",
      "453/453 [==============================] - 2s 4ms/step - loss: 0.4384 - accuracy: 0.7878\n",
      "Epoch 50/50\n",
      "453/453 [==============================] - 2s 3ms/step - loss: 0.4276 - accuracy: 0.7874\n",
      "283/283 [==============================] - 0s 1ms/step - loss: 0.4128 - accuracy: 0.8048\n"
     ]
    },
    {
     "data": {
      "text/plain": [
       "[0.41281020641326904, 0.804843008518219]"
      ]
     },
     "execution_count": 14,
     "metadata": {},
     "output_type": "execute_result"
    }
   ],
   "source": [
    "classifier = Sequential()\n",
    "classifier.add(Dense(400, activation = 'relu', kernel_initializer = 'random_normal', input_dim = 30))\n",
    "classifier.add(Dense(800, activation = 'relu', kernel_initializer = 'random_normal'))\n",
    "classifier.add(Dense(10, activation = 'relu', kernel_initializer = 'random_normal'))\n",
    "classifier.add(Dense(1, activation = 'sigmoid', kernel_initializer = 'random_normal'))\n",
    "classifier.compile(optimizer = 'adam', loss = 'binary_crossentropy', metrics = ['accuracy'])\n",
    "classifier.fit(X_train, y_train, batch_size = 20, epochs = 50)\n",
    "eval_model = classifier.evaluate(X_train, y_train)\n",
    "eval_model"
   ]
  },
  {
   "cell_type": "code",
   "execution_count": 15,
   "id": "0c8a5d4c",
   "metadata": {},
   "outputs": [
    {
     "name": "stdout",
     "output_type": "stream",
     "text": [
      "71/71 [==============================] - 0s 1ms/step\n"
     ]
    },
    {
     "data": {
      "text/plain": [
       "array([[False],\n",
       "       [False],\n",
       "       [False],\n",
       "       ...,\n",
       "       [ True],\n",
       "       [ True],\n",
       "       [False]])"
      ]
     },
     "execution_count": 15,
     "metadata": {},
     "output_type": "execute_result"
    }
   ],
   "source": [
    "y_pred = classifier.predict(X_test)\n",
    "y_pred = (y_pred > 0.62)\n",
    "y_pred"
   ]
  },
  {
   "cell_type": "code",
   "execution_count": 16,
   "id": "0297df8b",
   "metadata": {},
   "outputs": [
    {
     "data": {
      "text/plain": [
       "[Text(0, 0.5, 'No'), Text(0, 1.5, 'Yes')]"
      ]
     },
     "execution_count": 16,
     "metadata": {},
     "output_type": "execute_result"
    },
    {
     "data": {
      "image/png": "[encoded data removed]",
      "text/plain": [
       "<Figure size 640x480 with 2 Axes>"
      ]
     },
     "metadata": {},
     "output_type": "display_data"
    }
   ],
   "source": [
    "from sklearn.metrics import confusion_matrix\n",
    "cm = confusion_matrix(y_test, y_pred)\n",
    "ax = plt.subplot()\n",
    "sns.heatmap(cm, annot = True, ax = ax);\n",
    "\n",
    "ax.set_xlabel('Predicted');ax.set_ylabel('Actual');\n",
    "ax.set_title('Confusion Matrix');\n",
    "ax.xaxis.set_ticklabels(['No', 'Yes']); ax.yaxis.set_ticklabels(['No', 'Yes'])"
   ]
  },
  {
   "cell_type": "code",
   "execution_count": 17,
   "id": "66086f30",
   "metadata": {},
   "outputs": [
    {
     "name": "stdout",
     "output_type": "stream",
     "text": [
      "Keras weights file (<HDF5 file \"variables.h5\" (mode r+)>) saving:\n",
      "...layers\\dense\n",
      "......vars\n",
      ".........0\n",
      ".........1\n",
      "...layers\\dense_1\n",
      "......vars\n",
      ".........0\n",
      ".........1\n",
      "...layers\\dense_2\n",
      "......vars\n",
      ".........0\n",
      ".........1\n",
      "...layers\\dense_3\n",
      "......vars\n",
      ".........0\n",
      ".........1\n",
      "...metrics\\mean\n",
      "......vars\n",
      ".........0\n",
      ".........1\n",
      "...metrics\\mean_metric_wrapper\n",
      "......vars\n",
      ".........0\n",
      ".........1\n",
      "...optimizer\n",
      "......vars\n",
      ".........0\n",
      ".........1\n",
      ".........10\n",
      ".........11\n",
      ".........12\n",
      ".........13\n",
      ".........14\n",
      ".........15\n",
      ".........16\n",
      ".........2\n",
      ".........3\n",
      ".........4\n",
      ".........5\n",
      ".........6\n",
      ".........7\n",
      ".........8\n",
      ".........9\n",
      "...vars\n",
      "Keras model archive saving:\n",
      "File Name                                             Modified             Size\n",
      "config.json                                    2023-05-02 15:58:26         2362\n",
      "metadata.json                                  2023-05-02 15:58:26           64\n",
      "variables.h5                                   2023-05-02 15:58:26      4120320\n"
     ]
    },
    {
     "data": {
      "text/plain": [
       "['recidivism_model.pkl']"
      ]
     },
     "execution_count": 17,
     "metadata": {},
     "output_type": "execute_result"
    }
   ],
   "source": [
    "import pickle\n",
    "import joblib\n",
    "filename = 'recidivism_model.pkl'\n",
    "joblib.dump(classifier, filename)"
   ]
  }
 ],
 "metadata": {
  "kernelspec": {
   "display_name": "Python 3 (ipykernel)",
   "language": "python",
   "name": "python3"
  },
  "language_info": {
   "codemirror_mode": {
    "name": "ipython",
    "version": 3
   },
   "file_extension": ".py",
   "mimetype": "text/x-python",
   "name": "python",
   "nbconvert_exporter": "python",
   "pygments_lexer": "ipython3",
   "version": "3.9.13"
  }
 },
 "nbformat": 4,
 "nbformat_minor": 5
}
